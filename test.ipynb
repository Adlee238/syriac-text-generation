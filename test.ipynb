{
 "cells": [
  {
   "cell_type": "markdown",
   "metadata": {},
   "source": [
    "# Syriac Text Generation Research"
   ]
  },
  {
   "cell_type": "markdown",
   "metadata": {},
   "source": [
    "## Setup"
   ]
  },
  {
   "cell_type": "markdown",
   "metadata": {},
   "source": [
    "### Import necessary libraries"
   ]
  },
  {
   "cell_type": "code",
   "execution_count": 63,
   "metadata": {},
   "outputs": [],
   "source": [
    "import tensorflow as tf\n",
    "import pandas as pd\n",
    "import numpy as np\n",
    "import os\n",
    "import time"
   ]
  },
  {
   "cell_type": "markdown",
   "metadata": {},
   "source": [
    "### Reading the data"
   ]
  },
  {
   "cell_type": "code",
   "execution_count": 84,
   "metadata": {},
   "outputs": [
    {
     "name": "stdout",
     "output_type": "stream",
     "text": [
      "29 unique characters\n"
     ]
    }
   ],
   "source": [
    "METADATA = pd.read_csv('src/metadata.csv')\n",
    "\n",
    "# Read the text file\n",
    "path_to_file = 'src/1.txt'\n",
    "text = open(path_to_file, 'rb').read().decode(encoding='utf-8')\n",
    "#print(f'Length of text: {len(text)} characters')\n",
    "vocab = sorted(set(text))\n",
    "print(f'{len(vocab)} unique characters')\n",
    "\n",
    "# Vectorize the text\n",
    "tokens = text.split()\n",
    "chars = tf.strings.unicode_split(tokens, input_encoding='UTF-8')\n",
    "ids_from_chars = tf.keras.layers.StringLookup(\n",
    "    vocabulary=list(vocab), mask_token=None)\n",
    "ids = ids_from_chars(chars)\n",
    "chars_from_ids = tf.keras.layers.StringLookup(\n",
    "    vocabulary=ids_from_chars.get_vocabulary(), invert=True, mask_token=None)\n",
    "\n",
    "def text_from_ids(ids):\n",
    "    return tf.strings.reduce_join(chars_from_ids(ids), axis=-1)\n",
    "\n",
    "\n",
    "# Create training examples and targets\n",
    "all_ids = ids_from_chars(tf.strings.unicode_split(text, 'UTF-8'))\n",
    "ids_dataset = tf.data.Dataset.from_tensor_slices(all_ids)\n",
    "seq_length = 100\n",
    "sequences = ids_dataset.batch(seq_length+1, drop_remainder=True)\n",
    "\n",
    "def split_input_target(sequence):\n",
    "    input_text = sequence[:-1]\n",
    "    target_text = sequence[1:]\n",
    "    return input_text, target_text\n",
    "\n",
    "dataset = sequences.map(split_input_target)\n",
    "\n",
    "# Batch size\n",
    "BATCH_SIZE = 64\n",
    "\n",
    "# Buffer size to shuffle the dataset\n",
    "# (TF data is designed to work with possibly infinite sequences,\n",
    "# so it doesn't attempt to shuffle the entire sequence in memory. Instead,\n",
    "# it maintains a buffer in which it shuffles elements).\n",
    "BUFFER_SIZE = 10000\n",
    "\n",
    "dataset = (\n",
    "    dataset\n",
    "    .shuffle(BUFFER_SIZE)\n",
    "    .batch(BATCH_SIZE, drop_remainder=True)\n",
    "    .prefetch(tf.data.experimental.AUTOTUNE))\n"
   ]
  },
  {
   "cell_type": "markdown",
   "metadata": {},
   "source": [
    "## Build the Model"
   ]
  },
  {
   "cell_type": "code",
   "execution_count": 87,
   "metadata": {},
   "outputs": [],
   "source": [
    "# Length of the vocabulary in StringLookup Layer\n",
    "vocab_size = len(ids_from_chars.get_vocabulary())\n",
    "\n",
    "# The embedding dimension\n",
    "embedding_dim = 30\n",
    "\n",
    "# Number of RNN units\n",
    "rnn_units = 1024\n",
    "\n",
    "class MyModel(tf.keras.Model):\n",
    "    def __init__(self, vocab_size, embedding_dim, rnn_units):\n",
    "        super().__init__(self)\n",
    "        self.embedding = tf.keras.layers.Embedding(vocab_size, embedding_dim)\n",
    "        self.gru = tf.keras.layers.GRU(rnn_units,\n",
    "                                    return_sequences=True,\n",
    "                                    return_state=True)\n",
    "        self.dense = tf.keras.layers.Dense(vocab_size)\n",
    "\n",
    "    def call(self, inputs, states=None, return_state=False, training=False):\n",
    "        x = inputs\n",
    "        x = self.embedding(x, training=training)\n",
    "        if states is None:\n",
    "            states = self.gru.get_initial_state(x)\n",
    "            x, states = self.gru(x, initial_state=states, training=training)\n",
    "            x = self.dense(x, training=training)\n",
    "\n",
    "        if return_state:\n",
    "            return x, states\n",
    "        else:\n",
    "            return x\n",
    "\n",
    "model = MyModel(\n",
    "    vocab_size=vocab_size,\n",
    "    embedding_dim=embedding_dim,\n",
    "    rnn_units=rnn_units)"
   ]
  },
  {
   "cell_type": "markdown",
   "metadata": {},
   "source": [
    "## Try the Model"
   ]
  },
  {
   "cell_type": "code",
   "execution_count": 88,
   "metadata": {},
   "outputs": [
    {
     "name": "stderr",
     "output_type": "stream",
     "text": [
      "2023-08-17 16:44:24.879399: I tensorflow/core/common_runtime/executor.cc:1197] [/device:CPU:0] (DEBUG INFO) Executor start aborting (this does not indicate an error and you can ignore this message): INVALID_ARGUMENT: You must feed a value for placeholder tensor 'Placeholder/_0' with dtype int64 and shape [17323]\n",
      "\t [[{{node Placeholder/_0}}]]\n",
      "2023-08-17 16:44:24.879827: I tensorflow/core/common_runtime/executor.cc:1197] [/device:CPU:0] (DEBUG INFO) Executor start aborting (this does not indicate an error and you can ignore this message): INVALID_ARGUMENT: You must feed a value for placeholder tensor 'Placeholder/_0' with dtype int64 and shape [17323]\n",
      "\t [[{{node Placeholder/_0}}]]\n"
     ]
    },
    {
     "name": "stdout",
     "output_type": "stream",
     "text": [
      "Model: \"my_model_4\"\n",
      "_________________________________________________________________\n",
      " Layer (type)                Output Shape              Param #   \n",
      "=================================================================\n",
      " embedding_4 (Embedding)     multiple                  900       \n",
      "                                                                 \n",
      " gru_4 (GRU)                 multiple                  3244032   \n",
      "                                                                 \n",
      " dense_4 (Dense)             multiple                  30750     \n",
      "                                                                 \n",
      "=================================================================\n",
      "Total params: 3,275,682\n",
      "Trainable params: 3,275,682\n",
      "Non-trainable params: 0\n",
      "_________________________________________________________________\n",
      "Input:\n",
      " ܡ ܕܟܠܐ ܡܬܢܣܒ ܠܗ ܡܢܗ<EOS> ܡܢ ܕܫܩܠ ܓܝܪ ܒܛܝܒܘܬܐ ܐܦ ܒܛܝܒܘܬܐ ܘܠܐ ܠܗ<EOS>ܕܢܬܠ<EOS> ܘܐܢܬ ܚܒܝܒܝ ܕܫܐܠܬܢܝ ܐܝܟ \n",
      "\n",
      "Next Char Predictions:\n",
      " ܥܡSܬܫܟ[UNK]̈ܚܫ̈ܓ<ܒܕ ܨܠܙܩܚܫܗ>ܠܛܪܨSSܣܦOܛܚܝܦ>ܫܠܒܫܩ̈ܓܢ<̈ܩܥܡܥSܐܕܕܗܣOܐܪܘܘܦEܢܙܩܐܠOܙܠܘܗܓܢܝEܫܘOܡ̈ܪܪܚܙܘܬܛܗܚ>Oܒܪ<ܗܨ\n"
     ]
    }
   ],
   "source": [
    "for input_example_batch, target_example_batch in dataset.take(1):\n",
    "    example_batch_predictions = model(input_example_batch)\n",
    "    \n",
    "model.summary()\n",
    "\n",
    "sampled_indices = tf.random.categorical(example_batch_predictions[0], num_samples=1)\n",
    "sampled_indices = tf.squeeze(sampled_indices, axis=-1).numpy()\n",
    "sampled_indices\n",
    "\n",
    "print(\"Input:\\n\", text_from_ids(input_example_batch[0]).numpy().decode('utf-8'))\n",
    "print()\n",
    "print(\"Next Char Predictions:\\n\", text_from_ids(sampled_indices).numpy().decode('utf-8'))"
   ]
  },
  {
   "cell_type": "markdown",
   "metadata": {},
   "source": [
    "## Train the Model"
   ]
  },
  {
   "cell_type": "code",
   "execution_count": 89,
   "metadata": {},
   "outputs": [
    {
     "name": "stdout",
     "output_type": "stream",
     "text": [
      "Prediction shape:  (64, 100, 30)  # (batch_size, sequence_length, vocab_size)\n",
      "Mean loss:         tf.Tensor(3.4009912, shape=(), dtype=float32)\n",
      "Epoch 1/2\n"
     ]
    },
    {
     "name": "stderr",
     "output_type": "stream",
     "text": [
      "2023-08-17 16:44:29.335001: I tensorflow/core/common_runtime/executor.cc:1197] [/device:CPU:0] (DEBUG INFO) Executor start aborting (this does not indicate an error and you can ignore this message): INVALID_ARGUMENT: You must feed a value for placeholder tensor 'Placeholder/_0' with dtype int64 and shape [17323]\n",
      "\t [[{{node Placeholder/_0}}]]\n",
      "2023-08-17 16:44:29.335332: I tensorflow/core/common_runtime/executor.cc:1197] [/device:CPU:0] (DEBUG INFO) Executor start aborting (this does not indicate an error and you can ignore this message): INVALID_ARGUMENT: You must feed a value for placeholder tensor 'Placeholder/_0' with dtype int64 and shape [17323]\n",
      "\t [[{{node Placeholder/_0}}]]\n",
      "2023-08-17 16:44:29.407589: I tensorflow/core/common_runtime/executor.cc:1197] [/device:CPU:0] (DEBUG INFO) Executor start aborting (this does not indicate an error and you can ignore this message): INVALID_ARGUMENT: You must feed a value for placeholder tensor 'gradients/split_2_grad/concat/split_2/split_dim' with dtype int32\n",
      "\t [[{{node gradients/split_2_grad/concat/split_2/split_dim}}]]\n",
      "2023-08-17 16:44:29.408049: I tensorflow/core/common_runtime/executor.cc:1197] [/device:CPU:0] (DEBUG INFO) Executor start aborting (this does not indicate an error and you can ignore this message): INVALID_ARGUMENT: You must feed a value for placeholder tensor 'gradients/split_grad/concat/split/split_dim' with dtype int32\n",
      "\t [[{{node gradients/split_grad/concat/split/split_dim}}]]\n",
      "2023-08-17 16:44:29.408556: I tensorflow/core/common_runtime/executor.cc:1197] [/device:CPU:0] (DEBUG INFO) Executor start aborting (this does not indicate an error and you can ignore this message): INVALID_ARGUMENT: You must feed a value for placeholder tensor 'gradients/split_1_grad/concat/split_1/split_dim' with dtype int32\n",
      "\t [[{{node gradients/split_1_grad/concat/split_1/split_dim}}]]\n",
      "2023-08-17 16:44:29.551023: I tensorflow/core/common_runtime/executor.cc:1197] [/device:CPU:0] (DEBUG INFO) Executor start aborting (this does not indicate an error and you can ignore this message): INVALID_ARGUMENT: You must feed a value for placeholder tensor 'gradients/split_2_grad/concat/split_2/split_dim' with dtype int32\n",
      "\t [[{{node gradients/split_2_grad/concat/split_2/split_dim}}]]\n",
      "2023-08-17 16:44:29.551569: I tensorflow/core/common_runtime/executor.cc:1197] [/device:CPU:0] (DEBUG INFO) Executor start aborting (this does not indicate an error and you can ignore this message): INVALID_ARGUMENT: You must feed a value for placeholder tensor 'gradients/split_grad/concat/split/split_dim' with dtype int32\n",
      "\t [[{{node gradients/split_grad/concat/split/split_dim}}]]\n",
      "2023-08-17 16:44:29.552331: I tensorflow/core/common_runtime/executor.cc:1197] [/device:CPU:0] (DEBUG INFO) Executor start aborting (this does not indicate an error and you can ignore this message): INVALID_ARGUMENT: You must feed a value for placeholder tensor 'gradients/split_1_grad/concat/split_1/split_dim' with dtype int32\n",
      "\t [[{{node gradients/split_1_grad/concat/split_1/split_dim}}]]\n"
     ]
    },
    {
     "name": "stdout",
     "output_type": "stream",
     "text": [
      "2/2 [==============================] - 2s 770ms/step - loss: 3.3940\n",
      "Epoch 2/2\n",
      "2/2 [==============================] - 1s 727ms/step - loss: 3.3422\n"
     ]
    }
   ],
   "source": [
    "loss = tf.losses.SparseCategoricalCrossentropy(from_logits=True)\n",
    "example_batch_mean_loss = loss(target_example_batch, example_batch_predictions)\n",
    "print(\"Prediction shape: \", example_batch_predictions.shape, \" # (batch_size, sequence_length, vocab_size)\")\n",
    "print(\"Mean loss:        \", example_batch_mean_loss)\n",
    "tf.exp(example_batch_mean_loss).numpy()\n",
    "\n",
    "# Attach an optimizer and a loss function\n",
    "model.compile(optimizer='adam', loss=loss)  \n",
    "\n",
    "# Configure checkpoints\n",
    "checkpoint_dir = './training_checkpoints'   # Directory where the checkpoints will be saved\n",
    "checkpoint_prefix = os.path.join(checkpoint_dir, \"ckpt_{epoch}\")    # Name of the checkpoint files\n",
    "\n",
    "checkpoint_callback = tf.keras.callbacks.ModelCheckpoint(\n",
    "    filepath=checkpoint_prefix,\n",
    "    save_weights_only=True)\n",
    "\n",
    "# Execute Training\n",
    "EPOCHS = 20\n",
    "history = model.fit(dataset, epochs=EPOCHS, callbacks=[checkpoint_callback])"
   ]
  },
  {
   "cell_type": "markdown",
   "metadata": {},
   "source": [
    "## Generate text"
   ]
  },
  {
   "cell_type": "code",
   "execution_count": 90,
   "metadata": {},
   "outputs": [],
   "source": [
    "class OneStep(tf.keras.Model):\n",
    "  def __init__(self, model, chars_from_ids, ids_from_chars, temperature=1.0):\n",
    "    super().__init__()\n",
    "    self.temperature = temperature\n",
    "    self.model = model\n",
    "    self.chars_from_ids = chars_from_ids\n",
    "    self.ids_from_chars = ids_from_chars\n",
    "\n",
    "    # Create a mask to prevent \"[UNK]\" from being generated.\n",
    "    skip_ids = self.ids_from_chars(['[UNK]'])[:, None]\n",
    "    sparse_mask = tf.SparseTensor(\n",
    "        # Put a -inf at each bad index.\n",
    "        values=[-float('inf')]*len(skip_ids),\n",
    "        indices=skip_ids,\n",
    "        # Match the shape to the vocabulary\n",
    "        dense_shape=[len(ids_from_chars.get_vocabulary())])\n",
    "    self.prediction_mask = tf.sparse.to_dense(sparse_mask)\n",
    "\n",
    "  @tf.function\n",
    "  def generate_one_step(self, inputs, states=None):\n",
    "    # Convert strings to token IDs.\n",
    "    input_chars = tf.strings.unicode_split(inputs, 'UTF-8')\n",
    "    input_ids = self.ids_from_chars(input_chars).to_tensor()\n",
    "\n",
    "    # Run the model.\n",
    "    # predicted_logits.shape is [batch, char, next_char_logits]\n",
    "    predicted_logits, states = self.model(inputs=input_ids, states=states,\n",
    "                                          return_state=True)\n",
    "    # Only use the last prediction.\n",
    "    predicted_logits = predicted_logits[:, -1, :]\n",
    "    predicted_logits = predicted_logits/self.temperature\n",
    "    # Apply the prediction mask: prevent \"[UNK]\" from being generated.\n",
    "    predicted_logits = predicted_logits + self.prediction_mask\n",
    "\n",
    "    # Sample the output logits to generate token IDs.\n",
    "    predicted_ids = tf.random.categorical(predicted_logits, num_samples=1)\n",
    "    predicted_ids = tf.squeeze(predicted_ids, axis=-1)\n",
    "\n",
    "    # Convert from token ids to characters\n",
    "    predicted_chars = self.chars_from_ids(predicted_ids)\n",
    "\n",
    "    # Return the characters and model state.\n",
    "    return predicted_chars, states"
   ]
  },
  {
   "cell_type": "code",
   "execution_count": 91,
   "metadata": {},
   "outputs": [],
   "source": [
    "one_step_model = OneStep(model, chars_from_ids, ids_from_chars)"
   ]
  },
  {
   "cell_type": "code",
   "execution_count": 92,
   "metadata": {},
   "outputs": [
    {
     "name": "stderr",
     "output_type": "stream",
     "text": [
      "2023-08-17 16:44:40.770911: I tensorflow/core/common_runtime/executor.cc:1197] [/device:CPU:0] (DEBUG INFO) Executor start aborting (this does not indicate an error and you can ignore this message): INVALID_ARGUMENT: You must feed a value for placeholder tensor 'gradients/split_2_grad/concat/split_2/split_dim' with dtype int32\n",
      "\t [[{{node gradients/split_2_grad/concat/split_2/split_dim}}]]\n",
      "2023-08-17 16:44:40.771461: I tensorflow/core/common_runtime/executor.cc:1197] [/device:CPU:0] (DEBUG INFO) Executor start aborting (this does not indicate an error and you can ignore this message): INVALID_ARGUMENT: You must feed a value for placeholder tensor 'gradients/split_grad/concat/split/split_dim' with dtype int32\n",
      "\t [[{{node gradients/split_grad/concat/split/split_dim}}]]\n",
      "2023-08-17 16:44:40.772163: I tensorflow/core/common_runtime/executor.cc:1197] [/device:CPU:0] (DEBUG INFO) Executor start aborting (this does not indicate an error and you can ignore this message): INVALID_ARGUMENT: You must feed a value for placeholder tensor 'gradients/split_1_grad/concat/split_1/split_dim' with dtype int32\n",
      "\t [[{{node gradients/split_1_grad/concat/split_1/split_dim}}]]\n"
     ]
    },
    {
     "name": "stdout",
     "output_type": "stream",
     "text": [
      "ܟܐܦܐܬܕܥܟEܓܝܡܢܙܟܘܫܨ<ܩܡܟܡܐܓܥ ܦ>ܒܐܗܛܛܦܫܠܨ<̈ܓܗܕ ̈ܝܨܩ<ܢܛܓܢEܢܘܡܦܗܗOܙܘܛܗܐܬܒܗ̈ܝܢܛ̈ܝܡܘ ܠܪܙܡSܣ ܒܥܛܥܫܛܡܝܝܠEܘSܒܠܚ̈ ܪܗܕSܬܬܛ<̈ܟܓܓܝܕܟܛܩܢܐܟܪܝ ܕܡܚܚܬܐܒܚܚܫSܩܠܥEܐܛܘܚܐOܟܟܥܠܟܓܙSܡܗܐܠܝܘܕܫܚOܪܫ̈Oܢܚ>> Oܢܐܡܓ ܠOܥܨE<ܗܗܕܣܓܦ<ܛSܡ̈SܗܛܕS̈ ܝܐ>ܬ<<<ܡܨܘS̈̈ܕ<ܒ ܓܗܣܡܪ̈ ܪܬܣܫËEܝܐܗܠܝܩܓܒܙܠܢܙܝܠܢܩܩܛܘܝܒܨܐܓܡܘܕܣܩEEܠܘܥܦܒܫܚܬܣ<ܝܕܝܥܦEܙܡ ܣܝSܝOܫܕ>ܗܙܘܪOܕܣ>ܙܨܓܗܙܦO ܟ>ܨܬܥܟܥܙ̈< ܢܢܥܪܗܓܡSܫܙܥ̈<ܘ>>ܨܥܦܠ>SSܗܕOEܥܘ>ܣܕܘܛ̈ܣܣܠ>SEܟܗܫܢܣܨܓܐܦ<ܪEܨܕܚ<ܕܠ<ܠܢ>S ܕܡܠܕܐܙ>Oܠ<ܘ><ܗE <ܛܙܫܓܒܒ>ܡܗܟܥ̈ܠܐܢܫܝܬܓܝ̈ܐܕܡܫܦܝܒ EܛܒܐOܫ ܥܕܠܠ̈ܘܙ Oܓܟܫ>ܪܪܛܟܚܡܡSܐܒܙܛܝܢܙSܚܗܘ<ܛSܡܕܪܠܕ̈ܢܣܐSܪܡܗܪܬܐܙܦ ܣܪܣܣEܟܗEܬSܨ̈ܓܟܣܠܥ̈ܗܗܐܥܝܐܗܓܨܣܒܬ̈ܝܓܡܡܝܫܬܚ̈ܬܟ<ܫܙܡ<ܘܗܡܗ<ܦܛܦܥ ܩ̈ܕܝ>ܛܬ ܚܗܒܒܢܩEEܦܙܗܐܟܗ<ܝܙܛܡܕ ܪܒܙܠܣܩܥ ܗܪܡ<EܛܐܕܐܟܡܕOܨܚܣOܨܨܝEEܪ ܓܦ< ܦ̈̈ܫܛEܣܒO ̈SܫܢܡSܘOܚ<ܟܗܐܨS̈ܪܛܢEܚܣܓܨܙܫSܐܩܚܕܙSܥܘ ܕܠܠ>ܝܨܙܗܘ ܦܥܡܕܨ>>ܐܩܩܦܗܘܨܫܡܢO<ܛEܬܢ>ܙܙEE<ܣܢܡ Eܬܒܢܥ ܚOܒ>ܘܐܩܘܛܡ ܗܫܨܟܣܩ̈OEܠܬܫ<ܐܠܬܛܢܪܥܫܣܟܫܫܘܦܒܐܦܚ>Eܘܒܚܦܓܟܝܕ ܐܫ< ܘܪܘ >ܨܝܛܗܠܒܥSܩܐܚܣܨܛܢܛܐܪܩSܫܟܛ̈̈ܙܙܬ̈ܡܗܚEܐܡܒܚܛܠ̈ܚ>ܡܛܕܟܒܬܢܣܠܙܕܥܢܪܫܐܕܕܟE>ܓܥܢܬܛܦܢܓܐ<ܕܫܦܒܟܒܓܠܐܚܘܓEܟ>ܫܨܐܡܛܕܝܠܓܓܗܐܡܩܟSSܝ>ܪܘܩE<S ܦܕ ܫܬܡ  ܛܣܘܒ̈ܐܒܘܥܗ̈Eܣܥ ܨܡ̈ܪܝܗEܚܓܬ̈Oܛܩܪ ܬܘܗ̈>ܪܦܥܢOܡܨܢܐܙܫSܛܪ<ܥ̈ܕܚEܢܐܦEܘܥܘܡEܓܓܠܬܓܕܟܢ ܦܘ̈Eܚܓ Oܓܨ<ܝܨܝܗܒܫܘܨܚܒܒ ܓܫܟܣ <ܐ ܨܢܢܩܡܛ \n",
      "\n",
      "________________________________________________________________________________\n",
      "\n",
      "Run time: 0.3695530891418457\n"
     ]
    }
   ],
   "source": [
    "start = time.time()\n",
    "states = None\n",
    "next_char = tf.constant(['ܟܐܦܐ'])\n",
    "result = [next_char]\n",
    "\n",
    "for n in range(1000):\n",
    "    next_char, states = one_step_model.generate_one_step(next_char, states=states)\n",
    "    result.append(next_char)\n",
    "\n",
    "result = tf.strings.join(result)\n",
    "end = time.time()\n",
    "print(result[0].numpy().decode('utf-8'), '\\n\\n' + '_'*80)\n",
    "print('\\nRun time:', end - start)"
   ]
  },
  {
   "cell_type": "markdown",
   "metadata": {},
   "source": [
    "## Exporting the Generator"
   ]
  },
  {
   "cell_type": "code",
   "execution_count": null,
   "metadata": {},
   "outputs": [],
   "source": [
    "# Saving the Model\n",
    "tf.saved_model.save(one_step_model, 'one_step')\n",
    "one_step_reloaded = tf.saved_model.load('one_step')\n",
    "\n",
    "# Quick Checking with the Model\n",
    "states = None\n",
    "next_char = tf.constant(['ܗܕܐ'])\n",
    "result = [next_char]\n",
    "\n",
    "for n in range(100):\n",
    "  next_char, states = one_step_reloaded.generate_one_step(next_char, states=states)\n",
    "  result.append(next_char)\n",
    "\n",
    "print(tf.strings.join(result)[0].numpy().decode(\"utf-8\"))"
   ]
  }
 ],
 "metadata": {
  "kernelspec": {
   "display_name": "dataScienceEnv",
   "language": "python",
   "name": "python3"
  },
  "language_info": {
   "codemirror_mode": {
    "name": "ipython",
    "version": 3
   },
   "file_extension": ".py",
   "mimetype": "text/x-python",
   "name": "python",
   "nbconvert_exporter": "python",
   "pygments_lexer": "ipython3",
   "version": "3.10.12"
  },
  "orig_nbformat": 4
 },
 "nbformat": 4,
 "nbformat_minor": 2
}
